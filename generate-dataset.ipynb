{
 "cells": [
  {
   "cell_type": "code",
   "execution_count": 8,
   "id": "c1d004f4-d982-4dce-975b-5afb4c498d41",
   "metadata": {},
   "outputs": [
    {
     "name": "stderr",
     "output_type": "stream",
     "text": [
      "Cloning into 'Python'...\n"
     ]
    },
    {
     "name": "stdout",
     "output_type": "stream",
     "text": [
      "✅ Extracted 2203 complex functions\n"
     ]
    }
   ],
   "source": [
    "# Cell: Load TheAlgorithms/Python Dataset\n",
    "import os\n",
    "import subprocess\n",
    "from pathlib import Path\n",
    "import ast\n",
    "\n",
    "def clone_and_extract_algorithms():\n",
    "    \"\"\"Clone TheAlgorithms/Python and extract complex functions\"\"\"\n",
    "    \n",
    "    # Clone repository if not exists\n",
    "    if not os.path.exists('Python'):\n",
    "        subprocess.run(['git', 'clone', 'https://github.com/TheAlgorithms/Python.git'])\n",
    "    \n",
    "    # Find all Python files\n",
    "    python_files = list(Path('Python').rglob('*.py'))\n",
    "    complex_functions = []\n",
    "    \n",
    "    for file_path in python_files:\n",
    "        try:\n",
    "            with open(file_path, 'r', encoding='utf-8') as f:\n",
    "                content = f.read()\n",
    "                \n",
    "            # Parse the file to extract functions\n",
    "            tree = ast.parse(content)\n",
    "            \n",
    "            for node in ast.walk(tree):\n",
    "                if isinstance(node, ast.FunctionDef):\n",
    "                    # Extract function source\n",
    "                    start_line = node.lineno - 1\n",
    "                    end_line = node.end_lineno if hasattr(node, 'end_lineno') else start_line + 10\n",
    "                    \n",
    "                    lines = content.split('\\n')\n",
    "                    func_source = '\\n'.join(lines[start_line:end_line])\n",
    "                    \n",
    "                    # Filter for complexity (>10 lines, has docstring)\n",
    "                    if (len(func_source.split('\\n')) > 10 and \n",
    "                        ast.get_docstring(node) is not None):\n",
    "                        complex_functions.append({\n",
    "                            'source': func_source,\n",
    "                            'name': node.name,\n",
    "                            'file': str(file_path),\n",
    "                            'category': file_path.parent.name\n",
    "                        })\n",
    "                        \n",
    "        except Exception as e:\n",
    "            continue\n",
    "    \n",
    "    print(f\"✅ Extracted {len(complex_functions)} complex functions\")\n",
    "    return complex_functions\n",
    "\n",
    "# Extract the dataset\n",
    "algorithms_dataset = clone_and_extract_algorithms()\n"
   ]
  },
  {
   "cell_type": "code",
   "execution_count": 9,
   "id": "09cf5ed4-1ce2-4bda-8c3e-9ae8b966d9ac",
   "metadata": {},
   "outputs": [
    {
     "name": "stdout",
     "output_type": "stream",
     "text": [
      "✅ Successfully saved 2203 functions to 'python_algorithms_dataset.json'\n",
      "📁 File size: 2.50 MB\n",
      "\n",
      "📊 Functions by category:\n",
      "  maths: 248 functions\n",
      "  binary_tree: 136 functions\n",
      "  machine_learning: 114 functions\n",
      "  graphs: 114 functions\n",
      "  ciphers: 95 functions\n",
      "  strings: 80 functions\n",
      "  dynamic_programming: 73 functions\n",
      "  sorts: 70 functions\n",
      "  physics: 64 functions\n",
      "  linked_list: 59 functions\n"
     ]
    },
    {
     "data": {
      "text/plain": [
       "True"
      ]
     },
     "execution_count": 9,
     "metadata": {},
     "output_type": "execute_result"
    }
   ],
   "source": [
    "# Cell: Save Functions to JSON File\n",
    "import json\n",
    "from datetime import datetime\n",
    "\n",
    "def save_algorithms_to_json(algorithms_dataset, filename=\"python_algorithms_dataset.json\"):\n",
    "    \"\"\"Save the extracted algorithms dataset to a JSON file\"\"\"\n",
    "    \n",
    "    # Add metadata to the dataset\n",
    "    dataset_with_metadata = {\n",
    "        \"metadata\": {\n",
    "            \"extraction_date\": datetime.now().isoformat(),\n",
    "            \"total_functions\": len(algorithms_dataset),\n",
    "            \"source\": \"TheAlgorithms/Python GitHub Repository\",\n",
    "            \"description\": \"Complex Python functions with docstrings (>10 lines)\",\n",
    "            \"categories\": list(set([func['category'] for func in algorithms_dataset]))\n",
    "        },\n",
    "        \"functions\": algorithms_dataset\n",
    "    }\n",
    "    \n",
    "    # Save to JSON file with proper formatting\n",
    "    try:\n",
    "        with open(filename, 'w', encoding='utf-8') as f:\n",
    "            json.dump(dataset_with_metadata, f, \n",
    "                     indent=2,           # Pretty formatting\n",
    "                     ensure_ascii=False, # Handle unicode characters\n",
    "                     separators=(',', ': '))  # Clean separators\n",
    "        \n",
    "        print(f\"✅ Successfully saved {len(algorithms_dataset)} functions to '{filename}'\")\n",
    "        print(f\"📁 File size: {os.path.getsize(filename) / (1024*1024):.2f} MB\")\n",
    "        \n",
    "        # Display some statistics\n",
    "        categories = {}\n",
    "        for func in algorithms_dataset:\n",
    "            cat = func['category']\n",
    "            categories[cat] = categories.get(cat, 0) + 1\n",
    "        \n",
    "        print(f\"\\n📊 Functions by category:\")\n",
    "        for cat, count in sorted(categories.items(), key=lambda x: x[1], reverse=True)[:10]:\n",
    "            print(f\"  {cat}: {count} functions\")\n",
    "            \n",
    "    except Exception as e:\n",
    "        print(f\"❌ Error saving to JSON: {e}\")\n",
    "        return False\n",
    "    \n",
    "    return True\n",
    "\n",
    "# Save the dataset\n",
    "save_algorithms_to_json(algorithms_dataset)\n"
   ]
  }
 ],
 "metadata": {
  "kernelspec": {
   "display_name": "TestGen Council",
   "language": "python",
   "name": "testgen-council"
  },
  "language_info": {
   "codemirror_mode": {
    "name": "ipython",
    "version": 3
   },
   "file_extension": ".py",
   "mimetype": "text/x-python",
   "name": "python",
   "nbconvert_exporter": "python",
   "pygments_lexer": "ipython3",
   "version": "3.9.0"
  }
 },
 "nbformat": 4,
 "nbformat_minor": 5
}
